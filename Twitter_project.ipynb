{
  "nbformat": 4,
  "nbformat_minor": 0,
  "metadata": {
    "colab": {
      "provenance": [],
      "authorship_tag": "ABX9TyME1LBexxQQoH4lk5fWeWgU",
      "include_colab_link": true
    },
    "kernelspec": {
      "name": "python3",
      "display_name": "Python 3"
    },
    "language_info": {
      "name": "python"
    }
  },
  "cells": [
    {
      "cell_type": "markdown",
      "metadata": {
        "id": "view-in-github",
        "colab_type": "text"
      },
      "source": [
        "<a href=\"https://colab.research.google.com/github/Aayushh/intro-to-github/blob/main/Twitter_project.ipynb\" target=\"_parent\"><img src=\"https://colab.research.google.com/assets/colab-badge.svg\" alt=\"Open In Colab\"/></a>"
      ]
    },
    {
      "cell_type": "code",
      "execution_count": 23,
      "metadata": {
        "id": "SdPG6c_g5WzZ"
      },
      "outputs": [],
      "source": [
        "import tweepy\n",
        "import time\n",
        "import random\n",
        "# Twitter API credentials\n",
        "api_key = 'b4uri9MPlln2bRVHSIuf8b1v5'\n",
        "api_secret = 'DRsVO3KZdKTlnHSvKUDCKtwo2yifMaO4yMxSO6hApqGLIr10nn'\n",
        "bearer_token = r'AAAAAAAAAAAAAAAAAAAAAG9CnQEAAAAA0LnayWl2OQW3w%2BvhUN77QWBHUjo%3DFZrNadmAazSeJmWFeF81FkktObfw2eGwTyKUXf0ihw3d7XsKWy'\n",
        "access_token = '1655239236973662213-Ltt96hpY8o1TlAcwfdc0Now4h4TKL5'\n",
        "access_token_secret = 'tcTn91Ak6YYUxjYMlDgwQ7SN5M1mR9hDDEMKvq0k9H496'\n",
        "\n",
        "# Authenticate with the Twitter API\n",
        "auth = tweepy.OAuthHandler(api_key, api_secret)\n",
        "auth.set_access_token(access_token, access_token_secret)\n",
        "\n",
        "# Create a Tweepy API object\n",
        "api = tweepy.API(auth)\n",
        "\n",
        "client = tweepy.Client(bearer_token, api_key, api_secret, access_token, access_token_secret)\n",
        "auth = tweepy.OAuth1UserHandler(api_key, api_secret, access_token, access_token_secret)\n",
        "api = tweepy.API(auth)"
      ]
    },
    {
      "cell_type": "code",
      "source": [
        "client.create_tweet(text=\"I can tweet!\")"
      ],
      "metadata": {
        "colab": {
          "base_uri": "https://localhost:8080/"
        },
        "id": "yAk3EPFWHJGD",
        "outputId": "9638d687-2553-43bf-ec83-1efdace79413"
      },
      "execution_count": null,
      "outputs": [
        {
          "output_type": "execute_result",
          "data": {
            "text/plain": [
              "Response(data={'edit_history_tweet_ids': ['1655533809054683138'], 'id': '1655533809054683138', 'text': 'I can tweet!'}, includes={}, errors=[], meta={})"
            ]
          },
          "metadata": {},
          "execution_count": 11
        }
      ]
    },
    {
      "cell_type": "code",
      "source": [
        "# Define the tweet message and image file path\n",
        "tweet = \"Congratulations to all the graduates!  #ConvocationCeremony\"\n",
        "image_path = \"image.jpg\"\n",
        "\n",
        "# Define the Twitter users to tag in the tweet\n",
        "users_to_tag = [\"@Healthserv4all\", \"@MukundAnkit\"]\n",
        "\n",
        "# Define the interval for live updates (in seconds)\n",
        "update_interval = 60\n",
        "\n",
        "# Post the initial tweet with the image\n",
        "#api.update_with_media(filename=image_path, status=tweet)\n",
        "\n",
        "while True:\n",
        "    # Get the latest data for the live updates\n",
        "    # For example, you could query a database or scrape a website\n",
        "    # Here, we will just use a random number as an example\n",
        "    update_data = str(random.randint(0, 100))\n",
        "\n",
        "    # Construct the updated tweet message\n",
        "    updated_tweet = f\"{tweet} Update: {update_data}\"\n",
        "\n",
        "    # Tag the Twitter users in the updated tweet\n",
        "    for user in users_to_tag:\n",
        "        updated_tweet += f\" {user}\"\n",
        "\n",
        "    # Post the updated tweet with the imageA\n",
        "    #api.update_with_media(filename=image_path, status=updated_tweet)\n",
        "    client.create_tweet(text=updated_tweet)\n",
        "    # Wait for the update interval\n",
        "    time.sleep(update_interval)"
      ],
      "metadata": {
        "id": "e2Qyj-ECBmQ4",
        "colab": {
          "base_uri": "https://localhost:8080/",
          "height": 200
        },
        "outputId": "a3c0c9b8-74dd-41bc-a8e3-42413136386c"
      },
      "execution_count": 25,
      "outputs": [
        {
          "output_type": "error",
          "ename": "KeyboardInterrupt",
          "evalue": "ignored",
          "traceback": [
            "\u001b[0;31m---------------------------------------------------------------------------\u001b[0m",
            "\u001b[0;31mKeyboardInterrupt\u001b[0m                         Traceback (most recent call last)",
            "\u001b[0;32m<ipython-input-25-8f54bc6ccbfa>\u001b[0m in \u001b[0;36m<cell line: 14>\u001b[0;34m()\u001b[0m\n\u001b[1;32m     29\u001b[0m     \u001b[0mclient\u001b[0m\u001b[0;34m.\u001b[0m\u001b[0mcreate_tweet\u001b[0m\u001b[0;34m(\u001b[0m\u001b[0mtext\u001b[0m\u001b[0;34m=\u001b[0m\u001b[0mupdated_tweet\u001b[0m\u001b[0;34m)\u001b[0m\u001b[0;34m\u001b[0m\u001b[0;34m\u001b[0m\u001b[0m\n\u001b[1;32m     30\u001b[0m     \u001b[0;31m# Wait for the update interval\u001b[0m\u001b[0;34m\u001b[0m\u001b[0;34m\u001b[0m\u001b[0m\n\u001b[0;32m---> 31\u001b[0;31m     \u001b[0mtime\u001b[0m\u001b[0;34m.\u001b[0m\u001b[0msleep\u001b[0m\u001b[0;34m(\u001b[0m\u001b[0mupdate_interval\u001b[0m\u001b[0;34m)\u001b[0m\u001b[0;34m\u001b[0m\u001b[0;34m\u001b[0m\u001b[0m\n\u001b[0m",
            "\u001b[0;31mKeyboardInterrupt\u001b[0m: "
          ]
        }
      ]
    },
    {
      "cell_type": "code",
      "source": [
        "# Start the loop for live updates\n",
        "while True:\n",
        "    # Get the latest data for the live updates\n",
        "    # For example, you could query a database or scrape a website\n",
        "    # Here, we will just use a random number as an example\n",
        "    update_data = str(random.randint(0, 100))\n",
        "\n",
        "    # Construct the updated tweet message\n",
        "    updated_tweet = f\"{tweet} Update: {update_data}\"\n",
        "\n",
        "    # Tag the Twitter users in the updated tweet\n",
        "    for user in users_to_tag:\n",
        "        updated_tweet += f\" {user}\"\n",
        "\n",
        "    # Post the updated tweet with the imageA\n",
        "    #api.update_with_media(filename=image_path, status=updated_tweet)\n",
        "\n",
        "    # Wait for the update interval\n",
        "    time.sleep(update_interval)"
      ],
      "metadata": {
        "id": "55M7cjt6Cg9w"
      },
      "execution_count": null,
      "outputs": []
    }
  ]
}